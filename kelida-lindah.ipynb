{
 "cells": [
  {
   "cell_type": "markdown",
   "metadata": {},
   "source": [
    "# Introduction"
   ]
  },
  {
   "cell_type": "markdown",
   "metadata": {},
   "source": [
    "Being a multicultural society characterised by rich linguistic diversity, South Africa is a \n",
    "multilingual with 11 official languages, each of which is guaranteed equal status. Most people in South Africa are multilingual and able to speak at least two or more of the official languages.\n",
    "\n",
    "\n"
   ]
  },
  {
   "cell_type": "markdown",
   "metadata": {},
   "source": [
    "With the above,I am tasked with determining the natural language that a piece of text is written in. (.e. to take text which is in any of the 11 official languages and identify which language the text is in). Therefore, I wish to introduce you to an amazing project, the Language Detection model using Natural Language Processing"
   ]
  },
  {
   "cell_type": "markdown",
   "metadata": {},
   "source": [
    "# About the dataset\n",
    "\n",
    "Using the South African Language Detection dataset, which contains text details for 11 different languages.\n",
    "Using the text given create a model which will be able to predict the given language."
   ]
  },
  {
   "cell_type": "markdown",
   "metadata": {},
   "source": [
    "# Importing libraries and dataset\n",
    "******So let’s get started. First of all, we will import all the required libraries."
   ]
  },
  {
   "cell_type": "code",
   "execution_count": 39,
   "metadata": {
    "execution": {
     "iopub.execute_input": "2022-03-31T10:24:21.960099Z",
     "iopub.status.busy": "2022-03-31T10:24:21.959703Z",
     "iopub.status.idle": "2022-03-31T10:24:22.098244Z",
     "shell.execute_reply": "2022-03-31T10:24:22.097032Z",
     "shell.execute_reply.started": "2022-03-31T10:24:21.960064Z"
    }
   },
   "outputs": [],
   "source": [
    "import pandas as pd\n",
    "import numpy as np\n",
    "import re\n",
    "import seaborn as sns\n",
    "import matplotlib.pyplot as plt\n",
    "import warnings\n",
    "warnings.simplefilter(\"ignore\")\n",
    "\n",
    "\n",
    "from sklearn.model_selection import train_test_split\n",
    "\n",
    "#modelimports \n",
    "from sklearn.metrics import accuracy_score, confusion_matrix, classification_report\n",
    "from sklearn.linear_model import LogisticRegression\n",
    "from sklearn.svm import LinearSVC\n",
    "from sklearn.naive_bayes import BernoulliNB\n",
    "from sklearn.ensemble import GradientBoostingClassifier\n",
    "from sklearn.ensemble import RandomForestClassifier\n",
    "from sklearn.tree import DecisionTreeClassifier"
   ]
  },
  {
   "cell_type": "markdown",
   "metadata": {},
   "source": [
    "Import the language detection dataset"
   ]
  },
  {
   "cell_type": "code",
   "execution_count": 40,
   "metadata": {
    "execution": {
     "iopub.execute_input": "2022-03-31T10:24:33.087478Z",
     "iopub.status.busy": "2022-03-31T10:24:33.087146Z",
     "iopub.status.idle": "2022-03-31T10:24:33.092802Z",
     "shell.execute_reply": "2022-03-31T10:24:33.091881Z",
     "shell.execute_reply.started": "2022-03-31T10:24:33.087447Z"
    }
   },
   "outputs": [],
   "source": [
    "def read_file(path):\n",
    "    '''This function reads the csv file given and displays the first five rows'''\n",
    "    data = pd.read_csv(path)\n",
    "#\n",
    "    return data"
   ]
  },
  {
   "cell_type": "code",
   "execution_count": 41,
   "metadata": {
    "execution": {
     "iopub.execute_input": "2022-03-31T10:52:33.334488Z",
     "iopub.status.busy": "2022-03-31T10:52:33.334158Z",
     "iopub.status.idle": "2022-03-31T10:52:33.580283Z",
     "shell.execute_reply": "2022-03-31T10:52:33.579385Z",
     "shell.execute_reply.started": "2022-03-31T10:52:33.334456Z"
    }
   },
   "outputs": [
    {
     "data": {
      "text/html": [
       "<div>\n",
       "<style scoped>\n",
       "    .dataframe tbody tr th:only-of-type {\n",
       "        vertical-align: middle;\n",
       "    }\n",
       "\n",
       "    .dataframe tbody tr th {\n",
       "        vertical-align: top;\n",
       "    }\n",
       "\n",
       "    .dataframe thead th {\n",
       "        text-align: right;\n",
       "    }\n",
       "</style>\n",
       "<table border=\"1\" class=\"dataframe\">\n",
       "  <thead>\n",
       "    <tr style=\"text-align: right;\">\n",
       "      <th></th>\n",
       "      <th>lang_id</th>\n",
       "      <th>text</th>\n",
       "    </tr>\n",
       "  </thead>\n",
       "  <tbody>\n",
       "    <tr>\n",
       "      <th>0</th>\n",
       "      <td>xho</td>\n",
       "      <td>umgaqo-siseko wenza amalungiselelo kumaziko ax...</td>\n",
       "    </tr>\n",
       "    <tr>\n",
       "      <th>1</th>\n",
       "      <td>xho</td>\n",
       "      <td>i-dha iya kuba nobulumko bokubeka umsebenzi na...</td>\n",
       "    </tr>\n",
       "    <tr>\n",
       "      <th>2</th>\n",
       "      <td>eng</td>\n",
       "      <td>the province of kwazulu-natal department of tr...</td>\n",
       "    </tr>\n",
       "    <tr>\n",
       "      <th>3</th>\n",
       "      <td>nso</td>\n",
       "      <td>o netefatša gore o ba file dilo ka moka tše le...</td>\n",
       "    </tr>\n",
       "    <tr>\n",
       "      <th>4</th>\n",
       "      <td>ven</td>\n",
       "      <td>khomishini ya ndinganyiso ya mbeu yo ewa maana...</td>\n",
       "    </tr>\n",
       "  </tbody>\n",
       "</table>\n",
       "</div>"
      ],
      "text/plain": [
       "  lang_id                                               text\n",
       "0     xho  umgaqo-siseko wenza amalungiselelo kumaziko ax...\n",
       "1     xho  i-dha iya kuba nobulumko bokubeka umsebenzi na...\n",
       "2     eng  the province of kwazulu-natal department of tr...\n",
       "3     nso  o netefatša gore o ba file dilo ka moka tše le...\n",
       "4     ven  khomishini ya ndinganyiso ya mbeu yo ewa maana..."
      ]
     },
     "execution_count": 41,
     "metadata": {},
     "output_type": "execute_result"
    }
   ],
   "source": [
    "#read the train set \n",
    "train_df = read_file('train_set.csv')\n",
    "#read the test set\n",
    "test_df = read_file('test_set.csv')\n",
    "#display the first five rows\n",
    "train_df.head(5)\n"
   ]
  },
  {
   "cell_type": "markdown",
   "metadata": {},
   "source": [
    "We know that this dataset contains text details for 11 different languages as explained ealier. So let’s count the value count for each language."
   ]
  },
  {
   "cell_type": "code",
   "execution_count": 42,
   "metadata": {
    "execution": {
     "iopub.execute_input": "2022-03-31T10:24:47.442163Z",
     "iopub.status.busy": "2022-03-31T10:24:47.441248Z",
     "iopub.status.idle": "2022-03-31T10:24:47.447209Z",
     "shell.execute_reply": "2022-03-31T10:24:47.445698Z",
     "shell.execute_reply.started": "2022-03-31T10:24:47.442112Z"
    }
   },
   "outputs": [
    {
     "data": {
      "text/plain": [
       "xho    3000\n",
       "eng    3000\n",
       "nso    3000\n",
       "ven    3000\n",
       "tsn    3000\n",
       "nbl    3000\n",
       "zul    3000\n",
       "ssw    3000\n",
       "tso    3000\n",
       "sot    3000\n",
       "afr    3000\n",
       "Name: lang_id, dtype: int64"
      ]
     },
     "execution_count": 42,
     "metadata": {},
     "output_type": "execute_result"
    }
   ],
   "source": [
    "train_df[\"lang_id\"].value_counts()\n",
    "#test_df[\"lang_id\"].value_counts()"
   ]
  },
  {
   "cell_type": "markdown",
   "metadata": {},
   "source": [
    "Interesting!!!  all the languages are of the same value counts"
   ]
  },
  {
   "cell_type": "markdown",
   "metadata": {},
   "source": [
    "Have a look at the type of data we got"
   ]
  },
  {
   "cell_type": "code",
   "execution_count": 43,
   "metadata": {
    "execution": {
     "iopub.execute_input": "2022-03-31T10:24:53.779424Z",
     "iopub.status.busy": "2022-03-31T10:24:53.778917Z",
     "iopub.status.idle": "2022-03-31T10:24:53.782736Z",
     "shell.execute_reply": "2022-03-31T10:24:53.781687Z",
     "shell.execute_reply.started": "2022-03-31T10:24:53.779388Z"
    }
   },
   "outputs": [
    {
     "name": "stdout",
     "output_type": "stream",
     "text": [
      "<class 'pandas.core.frame.DataFrame'>\n",
      "RangeIndex: 33000 entries, 0 to 32999\n",
      "Data columns (total 2 columns):\n",
      " #   Column   Non-Null Count  Dtype \n",
      "---  ------   --------------  ----- \n",
      " 0   lang_id  33000 non-null  object\n",
      " 1   text     33000 non-null  object\n",
      "dtypes: object(2)\n",
      "memory usage: 515.8+ KB\n"
     ]
    }
   ],
   "source": [
    "#see the data types and the number of columns and rows we got\n",
    "train_df.info()"
   ]
  },
  {
   "cell_type": "markdown",
   "metadata": {},
   "source": [
    "We only have two columns of object datatype and with no missing values. And 33000 entries in our dataset.\n",
    "\n",
    "\n",
    "There is also another way of checking for missing values"
   ]
  },
  {
   "cell_type": "code",
   "execution_count": 44,
   "metadata": {
    "execution": {
     "iopub.execute_input": "2022-03-31T10:17:02.123456Z",
     "iopub.status.busy": "2022-03-31T10:17:02.122561Z",
     "iopub.status.idle": "2022-03-31T10:17:02.141098Z",
     "shell.execute_reply": "2022-03-31T10:17:02.139776Z",
     "shell.execute_reply.started": "2022-03-31T10:17:02.123408Z"
    }
   },
   "outputs": [
    {
     "data": {
      "text/plain": [
       "lang_id    0\n",
       "text       0\n",
       "dtype: int64"
      ]
     },
     "execution_count": 44,
     "metadata": {},
     "output_type": "execute_result"
    }
   ],
   "source": [
    "# check for null values \n",
    "train_df.isnull().sum()"
   ]
  },
  {
   "cell_type": "markdown",
   "metadata": {},
   "source": [
    "... no missing values we can go ahead and perform some EDA"
   ]
  },
  {
   "cell_type": "code",
   "execution_count": 45,
   "metadata": {
    "execution": {
     "iopub.execute_input": "2022-03-31T10:17:02.286343Z",
     "iopub.status.busy": "2022-03-31T10:17:02.286052Z",
     "iopub.status.idle": "2022-03-31T10:17:02.294437Z",
     "shell.execute_reply": "2022-03-31T10:17:02.293225Z",
     "shell.execute_reply.started": "2022-03-31T10:17:02.28631Z"
    }
   },
   "outputs": [
    {
     "data": {
      "text/plain": [
       "'umgaqo-siseko wenza amalungiselelo kumaziko axhasa ulawulo lwesininzi kunye nokuthath inxaxheba kwabafazi ezi ziquka phakathi kwezinye zazo ikomishoni yokulingana ngokwesini ikomishoni yamalungelo oluntu lomzantsi afrika'"
      ]
     },
     "execution_count": 45,
     "metadata": {},
     "output_type": "execute_result"
    }
   ],
   "source": [
    "# check out the first message \n",
    "train_df['text'][0]"
   ]
  },
  {
   "cell_type": "code",
   "execution_count": 46,
   "metadata": {
    "execution": {
     "iopub.execute_input": "2022-03-31T10:17:02.298096Z",
     "iopub.status.busy": "2022-03-31T10:17:02.297151Z",
     "iopub.status.idle": "2022-03-31T10:17:02.304799Z",
     "shell.execute_reply": "2022-03-31T10:17:02.304165Z",
     "shell.execute_reply.started": "2022-03-31T10:17:02.298042Z"
    }
   },
   "outputs": [
    {
     "data": {
      "text/plain": [
       "'ukuba igosa elongameleyo ligqiba ekubeni lo mbandela ufanele ukuxoxwa kwinkundla yokulingana igosa efanelekileyo kufuneka lidlulisele umbandela kumabhalana wenkundla yokulingana yena kufanele ngeli xesha limisiweyo lolu dluliselo anike umhla wokuxoxwa kwalo mbandela'"
      ]
     },
     "execution_count": 46,
     "metadata": {},
     "output_type": "execute_result"
    }
   ],
   "source": [
    "# check out the last message \n",
    "train_df['text'][30000]"
   ]
  },
  {
   "cell_type": "markdown",
   "metadata": {},
   "source": [
    "...quite some words we have!\n",
    "It seems like our texts are clean. However, if there were punctuation marks, specials characters etc, tey would be\n",
    "removed during data cleaning process for a machine learning project to be built."
   ]
  },
  {
   "cell_type": "markdown",
   "metadata": {},
   "source": [
    "#### **We can look at how the languages are distributed in the data using a bar graph and pie chart**"
   ]
  },
  {
   "cell_type": "code",
   "execution_count": 47,
   "metadata": {
    "execution": {
     "iopub.execute_input": "2022-03-31T10:17:02.306461Z",
     "iopub.status.busy": "2022-03-31T10:17:02.305791Z",
     "iopub.status.idle": "2022-03-31T10:17:02.60858Z",
     "shell.execute_reply": "2022-03-31T10:17:02.607705Z",
     "shell.execute_reply.started": "2022-03-31T10:17:02.306427Z"
    }
   },
   "outputs": [
    {
     "data": {
      "image/png": "[encoded data removed]",
      "text/plain": [
       "<Figure size 576x432 with 1 Axes>"
      ]
     },
     "metadata": {
      "needs_background": "light"
     },
     "output_type": "display_data"
    }
   ],
   "source": [
    "# A language bar graph plot \n",
    "sns.countplot(x = 'lang_id', data = train_df, palette=\"hls\")\n",
    "plt.title(\"Distribution of Languages\");"
   ]
  },
  {
   "cell_type": "markdown",
   "metadata": {},
   "source": [
    "From the look of it the categories are balanced. \n",
    "NB: Class imbalance if unhandled, can create a biased model. Its important that the this is resolved in the data processing"
   ]
  },
  {
   "cell_type": "code",
   "execution_count": 48,
   "metadata": {
    "execution": {
     "iopub.execute_input": "2022-03-31T10:17:02.610717Z",
     "iopub.status.busy": "2022-03-31T10:17:02.610087Z",
     "iopub.status.idle": "2022-03-31T10:17:02.843404Z",
     "shell.execute_reply": "2022-03-31T10:17:02.842198Z",
     "shell.execute_reply.started": "2022-03-31T10:17:02.610667Z"
    }
   },
   "outputs": [
    {
     "name": "stdout",
     "output_type": "stream",
     "text": [
      "8.0\n",
      "6.0\n"
     ]
    },
    {
     "data": {
      "text/plain": [
       "<AxesSubplot:ylabel='lang_id'>"
      ]
     },
     "execution_count": 48,
     "metadata": {},
     "output_type": "execute_result"
    },
    {
     "data": {
      "image/png": "[encoded data removed]",
      "text/plain": [
       "<Figure size 576x432 with 1 Axes>"
      ]
     },
     "metadata": {},
     "output_type": "display_data"
    }
   ],
   "source": [
    "plot_size = plt.rcParams[\"figure.figsize\"] \n",
    "print(plot_size[0]) \n",
    "print(plot_size[1])\n",
    "\n",
    "plot_size[0] = 8\n",
    "plot_size[1] = 6\n",
    "plt.rcParams[\"figure.figsize\"] = plot_size \n",
    "\n",
    "#  distribution of sentimennts across all tweets\n",
    "train_df.lang_id.value_counts().plot(kind='pie', autopct='%1.0f%%')\n"
   ]
  },
  {
   "cell_type": "markdown",
   "metadata": {},
   "source": [
    "A pie chart  also shows the distribution of languages across the country and it seems that langauges are evenly distributed all over South Africa"
   ]
  },
  {
   "cell_type": "markdown",
   "metadata": {},
   "source": [
    "# **Feature Engineering**"
   ]
  },
  {
   "cell_type": "markdown",
   "metadata": {},
   "source": [
    "#### NB  any feature engineering done on the train set should also be done on the test set to avoid errors whle testing your test set predictions"
   ]
  },
  {
   "cell_type": "markdown",
   "metadata": {},
   "source": [
    "### Separating Independent and Dependent features\n",
    "Now we can separate the dependent and independent variables, here text data is the independent variable and the lang_id is the dependent variable."
   ]
  },
  {
   "cell_type": "code",
   "execution_count": 49,
   "metadata": {
    "execution": {
     "iopub.execute_input": "2022-03-31T10:53:14.489524Z",
     "iopub.status.busy": "2022-03-31T10:53:14.489027Z",
     "iopub.status.idle": "2022-03-31T10:53:14.663071Z",
     "shell.execute_reply": "2022-03-31T10:53:14.661991Z",
     "shell.execute_reply.started": "2022-03-31T10:53:14.489474Z"
    }
   },
   "outputs": [],
   "source": [
    "X = train_df[\"text\"]\n",
    "y = train_df[\"lang_id\"]\n",
    "X_t = test_df['text']"
   ]
  },
  {
   "cell_type": "markdown",
   "metadata": {},
   "source": [
    "### Text Preprocessing\n",
    "Our dataset maycontain unwanted symbols, \n",
    "numbers which will affect the quality of our model. So we should perform text preprocessing techniques."
   ]
  },
  {
   "cell_type": "code",
   "execution_count": 50,
   "metadata": {
    "execution": {
     "iopub.execute_input": "2022-03-31T10:53:21.191618Z",
     "iopub.status.busy": "2022-03-31T10:53:21.190525Z",
     "iopub.status.idle": "2022-03-31T10:53:21.430951Z",
     "shell.execute_reply": "2022-03-31T10:53:21.429894Z",
     "shell.execute_reply.started": "2022-03-31T10:53:21.191559Z"
    }
   },
   "outputs": [],
   "source": [
    "# creating a list for appending the preprocessed text\n",
    "data_list = []\n",
    "# iterating through all the text\n",
    "for text in X:\n",
    "       # removing the symbols and numbers\n",
    "        text = re.sub(r'[!@#$(),n\"%^*?:;~`0-9]', ' ', text)\n",
    "        # converting the text to lower case\n",
    "        text = text.lower()\n",
    "        # appending to data_list\n",
    "        data_list.append(text)"
   ]
  },
  {
   "cell_type": "code",
   "execution_count": 51,
   "metadata": {},
   "outputs": [],
   "source": [
    "# creating a list for appending the preprocessed text in the text data set\n",
    "data_list1 = []\n",
    "# iterating through all the text\n",
    "for text in X_t:\n",
    "       # removing the symbols and numbers\n",
    "        text = re.sub(r'[!@#$(),n\"%^*?:;~`0-9]', ' ', text)\n",
    "        text = re.sub(r'[[]]', ' ', text)\n",
    "        # converting the text to lower case\n",
    "        text = text.lower()\n",
    "        # appending to data_list\n",
    "        data_list1.append(text)"
   ]
  },
  {
   "cell_type": "markdown",
   "metadata": {},
   "source": [
    "### Bag of Words\n",
    "Not only the output feature but also the input feature should be of the numerical form. So we are converting text into numerical form by creating a Bag of Words model using CountVectorizer."
   ]
  },
  {
   "cell_type": "code",
   "execution_count": 52,
   "metadata": {
    "execution": {
     "iopub.execute_input": "2022-03-31T10:53:22.759326Z",
     "iopub.status.busy": "2022-03-31T10:53:22.758982Z",
     "iopub.status.idle": "2022-03-31T10:53:25.974695Z",
     "shell.execute_reply": "2022-03-31T10:53:25.973865Z",
     "shell.execute_reply.started": "2022-03-31T10:53:22.759288Z"
    }
   },
   "outputs": [
    {
     "data": {
      "text/plain": [
       "(33000, 141958)"
      ]
     },
     "execution_count": 52,
     "metadata": {},
     "output_type": "execute_result"
    }
   ],
   "source": [
    "from sklearn.feature_extraction.text import CountVectorizer\n",
    "cv = CountVectorizer()\n",
    "X = cv.fit_transform(X)\n",
    "\n",
    "\n",
    "#look at the shapegiven\n",
    "X.shape \n"
   ]
  },
  {
   "cell_type": "markdown",
   "metadata": {},
   "source": [
    "we use transform on the test data because we use the scaling paramaters learned on the train data to scale the test data"
   ]
  },
  {
   "cell_type": "code",
   "execution_count": 53,
   "metadata": {},
   "outputs": [
    {
     "data": {
      "text/plain": [
       "(5682, 141958)"
      ]
     },
     "execution_count": 53,
     "metadata": {},
     "output_type": "execute_result"
    }
   ],
   "source": [
    "# we only transform the test data  \n",
    "\n",
    "X_t = cv.transform(X_t)\n",
    "X_t.shape"
   ]
  },
  {
   "cell_type": "markdown",
   "metadata": {},
   "source": [
    "#### Train Test Splitting\n",
    "We preprocessed our input and output variable. The next step is to create the training set, for training the model and test set, for evaluating the test set. For this process, we are using a train test split."
   ]
  },
  {
   "cell_type": "code",
   "execution_count": 54,
   "metadata": {
    "execution": {
     "iopub.execute_input": "2022-03-31T10:53:25.976569Z",
     "iopub.status.busy": "2022-03-31T10:53:25.976314Z"
    }
   },
   "outputs": [],
   "source": [
    "\n",
    "x_train, x_test, y_train, y_test = train_test_split(X, y, test_size = 0.20, random_state=0)"
   ]
  },
  {
   "cell_type": "markdown",
   "metadata": {},
   "source": [
    "# Model Training and Prediction\n",
    "\n",
    "\n",
    "The model creation part.  Later we train the model using the training set and predict the output for the test set. using the classification report\n",
    "We are using the:\n",
    "1. NAIVE_BAYES algorithm for our model creation. Later we train the model using the training set and predict the output for the test set. using the classification report"
   ]
  },
  {
   "cell_type": "code",
   "execution_count": 56,
   "metadata": {
    "scrolled": false
   },
   "outputs": [
    {
     "name": "stdout",
     "output_type": "stream",
     "text": [
      "Accuracy is : 0.9990909090909091\n",
      "Report is :               precision    recall  f1-score   support\n",
      "\n",
      "         afr       1.00      1.00      1.00       587\n",
      "         eng       0.99      1.00      1.00       574\n",
      "         nbl       1.00      1.00      1.00       613\n",
      "         nso       1.00      1.00      1.00       570\n",
      "         sot       1.00      1.00      1.00       600\n",
      "         ssw       1.00      1.00      1.00       624\n",
      "         tsn       1.00      1.00      1.00       581\n",
      "         tso       1.00      1.00      1.00       597\n",
      "         ven       1.00      1.00      1.00       599\n",
      "         xho       1.00      1.00      1.00       621\n",
      "         zul       1.00      1.00      1.00       634\n",
      "\n",
      "    accuracy                           1.00      6600\n",
      "   macro avg       1.00      1.00      1.00      6600\n",
      "weighted avg       1.00      1.00      1.00      6600\n",
      "\n"
     ]
    }
   ],
   "source": [
    "from sklearn.naive_bayes import MultinomialNB\n",
    "model = MultinomialNB()\n",
    "#fit the model\n",
    "model.fit(x_train, y_train)\n",
    "#predict y labels\n",
    "y_pred1 = model.predict(x_test)\n",
    "\n",
    "#metrics report\n",
    "ac = accuracy_score(y_test, y_pred1)\n",
    "\n",
    "report = classification_report(y_test,y_pred1)\n",
    "\n",
    "print(\"Accuracy is :\",ac)\n",
    "#print(\"Matrix is :\",cm)\n",
    "print(\"Report is :\",report)"
   ]
  },
  {
   "cell_type": "markdown",
   "metadata": {},
   "source": [
    "2. Random Forest Classifier algorithm for our model creation"
   ]
  },
  {
   "cell_type": "code",
   "execution_count": 57,
   "metadata": {
    "scrolled": true
   },
   "outputs": [
    {
     "name": "stdout",
     "output_type": "stream",
     "text": [
      "Accuracy is : 0.9878787878787879\n",
      "Report is :               precision    recall  f1-score   support\n",
      "\n",
      "         afr       1.00      1.00      1.00       587\n",
      "         eng       0.99      1.00      0.99       574\n",
      "         nbl       0.98      0.95      0.97       613\n",
      "         nso       1.00      1.00      1.00       570\n",
      "         sot       1.00      1.00      1.00       600\n",
      "         ssw       1.00      0.97      0.98       624\n",
      "         tsn       1.00      1.00      1.00       581\n",
      "         tso       1.00      1.00      1.00       597\n",
      "         ven       1.00      1.00      1.00       599\n",
      "         xho       0.98      0.99      0.98       621\n",
      "         zul       0.94      0.97      0.95       634\n",
      "\n",
      "    accuracy                           0.99      6600\n",
      "   macro avg       0.99      0.99      0.99      6600\n",
      "weighted avg       0.99      0.99      0.99      6600\n",
      "\n"
     ]
    }
   ],
   "source": [
    "rf_clf = RandomForestClassifier(n_estimators=100) # Create Random Forest classifer object\n",
    "rf_clf.fit(x_train,y_train) # Fit/Train Random Forest Classifer on training set\n",
    "\n",
    "#predict y labels\n",
    "y_pred5 = rf_clf.predict(x_test)\n",
    "\n",
    "#metrics report\n",
    "ac = accuracy_score(y_test, y_pred5)\n",
    "\n",
    "report = classification_report(y_test,y_pred5)\n",
    "\n",
    "print(\"Accuracy is :\",ac)\n",
    "#print(\"Matrix is :\",cm)\n",
    "print(\"Report is :\",report)\n",
    "\n"
   ]
  },
  {
   "cell_type": "markdown",
   "metadata": {},
   "source": [
    "3. LOGISTIC REGRESSION for model creation"
   ]
  },
  {
   "cell_type": "code",
   "execution_count": 58,
   "metadata": {},
   "outputs": [
    {
     "name": "stdout",
     "output_type": "stream",
     "text": [
      "Accuracy is : 0.9953030303030304\n",
      "Report is :               precision    recall  f1-score   support\n",
      "\n",
      "         afr       1.00      1.00      1.00       587\n",
      "         eng       1.00      1.00      1.00       574\n",
      "         nbl       0.99      0.99      0.99       613\n",
      "         nso       1.00      1.00      1.00       570\n",
      "         sot       1.00      0.99      1.00       600\n",
      "         ssw       0.99      1.00      0.99       624\n",
      "         tsn       1.00      1.00      1.00       581\n",
      "         tso       1.00      1.00      1.00       597\n",
      "         ven       1.00      1.00      1.00       599\n",
      "         xho       1.00      0.99      0.99       621\n",
      "         zul       0.98      0.98      0.98       634\n",
      "\n",
      "    accuracy                           1.00      6600\n",
      "   macro avg       1.00      1.00      1.00      6600\n",
      "weighted avg       1.00      1.00      1.00      6600\n",
      "\n"
     ]
    }
   ],
   "source": [
    "\n",
    "#instantiate the model\n",
    "LRmodel = LogisticRegression(C = 2, max_iter = 1000, n_jobs=-1)\n",
    "#fit the train data\n",
    "LRmodel.fit(x_train, y_train)\n",
    "#predict y labels\n",
    "y_pred2 = LRmodel.predict(x_test)\n",
    "\n",
    "#metrics report\n",
    "ac = accuracy_score(y_test, y_pred2)\n",
    "\n",
    "report = classification_report(y_test,y_pred2)\n",
    "\n",
    "print(\"Accuracy is :\",ac)\n",
    "#print(\"Matrix is :\",cm)\n",
    "print(\"Report is :\",report)"
   ]
  },
  {
   "cell_type": "markdown",
   "metadata": {},
   "source": [
    "4. BERNOULLINB model"
   ]
  },
  {
   "cell_type": "code",
   "execution_count": 59,
   "metadata": {
    "scrolled": false
   },
   "outputs": [
    {
     "name": "stdout",
     "output_type": "stream",
     "text": [
      "Accuracy is : 0.9993939393939394\n",
      "Report is :               precision    recall  f1-score   support\n",
      "\n",
      "         afr       1.00      1.00      1.00       587\n",
      "         eng       1.00      1.00      1.00       574\n",
      "         nbl       1.00      1.00      1.00       613\n",
      "         nso       1.00      1.00      1.00       570\n",
      "         sot       1.00      1.00      1.00       600\n",
      "         ssw       1.00      1.00      1.00       624\n",
      "         tsn       1.00      1.00      1.00       581\n",
      "         tso       1.00      1.00      1.00       597\n",
      "         ven       1.00      1.00      1.00       599\n",
      "         xho       1.00      1.00      1.00       621\n",
      "         zul       1.00      1.00      1.00       634\n",
      "\n",
      "    accuracy                           1.00      6600\n",
      "   macro avg       1.00      1.00      1.00      6600\n",
      "weighted avg       1.00      1.00      1.00      6600\n",
      "\n"
     ]
    }
   ],
   "source": [
    "\n",
    "BNBmodel = BernoulliNB()\n",
    "BNBmodel.fit(x_train, y_train)\n",
    "y_pred3 = BNBmodel.predict(x_test)\n",
    "\n",
    "#metrics report\n",
    "ac = accuracy_score(y_test, y_pred3)\n",
    "\n",
    "report = classification_report(y_test,y_pred3)\n",
    "\n",
    "print(\"Accuracy is :\",ac)\n",
    "#print(\"Matrix is :\",cm)\n",
    "print(\"Report is :\",report)"
   ]
  },
  {
   "cell_type": "markdown",
   "metadata": {},
   "source": [
    "5. SUPPORT VECTOR CLASSIFIER"
   ]
  },
  {
   "cell_type": "code",
   "execution_count": 60,
   "metadata": {},
   "outputs": [
    {
     "name": "stdout",
     "output_type": "stream",
     "text": [
      "Accuracy is : 0.9940909090909091\n",
      "Report is :               precision    recall  f1-score   support\n",
      "\n",
      "         afr       1.00      1.00      1.00       587\n",
      "         eng       1.00      1.00      1.00       574\n",
      "         nbl       0.99      0.98      0.98       613\n",
      "         nso       1.00      0.99      1.00       570\n",
      "         sot       1.00      0.99      1.00       600\n",
      "         ssw       0.99      1.00      1.00       624\n",
      "         tsn       0.99      1.00      1.00       581\n",
      "         tso       1.00      1.00      1.00       597\n",
      "         ven       1.00      1.00      1.00       599\n",
      "         xho       0.99      0.99      0.99       621\n",
      "         zul       0.97      0.98      0.98       634\n",
      "\n",
      "    accuracy                           0.99      6600\n",
      "   macro avg       0.99      0.99      0.99      6600\n",
      "weighted avg       0.99      0.99      0.99      6600\n",
      "\n"
     ]
    }
   ],
   "source": [
    "from sklearn.svm import SVC\n",
    "svc = SVC( kernel='rbf')\n",
    "svc.fit(x_train, y_train)\n",
    "y_pred4 = svc.predict(x_test)\n",
    "\n",
    "#metrics report\n",
    "ac = accuracy_score(y_test, y_pred4)\n",
    "report = classification_report(y_test,y_pred4)\n",
    "\n",
    "print(\"Accuracy is :\",ac)\n",
    "#print(\"Matrix is :\",cm)\n",
    "print(\"Report is :\",report)"
   ]
  },
  {
   "cell_type": "markdown",
   "metadata": {},
   "source": [
    "6. PASSIVE AGGRESSIVE CLASSIFIER\n",
    "\n",
    "We will try and use a different approcah to vecctorize our values- the TfidVectorizer"
   ]
  },
  {
   "cell_type": "code",
   "execution_count": 61,
   "metadata": {
    "scrolled": true
   },
   "outputs": [
    {
     "name": "stdout",
     "output_type": "stream",
     "text": [
      "Accuracy is : 0.9966666666666667\n",
      "Report is :               precision    recall  f1-score   support\n",
      "\n",
      "         afr       1.00      1.00      1.00       606\n",
      "         eng       1.00      1.00      1.00       593\n",
      "         nbl       1.00      0.98      0.99       602\n",
      "         nso       1.00      0.99      1.00       600\n",
      "         sot       1.00      1.00      1.00       587\n",
      "         ssw       0.99      1.00      1.00       612\n",
      "         tsn       0.99      1.00      1.00       594\n",
      "         tso       1.00      1.00      1.00       639\n",
      "         ven       1.00      1.00      1.00       581\n",
      "         xho       0.99      1.00      1.00       597\n",
      "         zul       0.99      0.99      0.99       589\n",
      "\n",
      "    accuracy                           1.00      6600\n",
      "   macro avg       1.00      1.00      1.00      6600\n",
      "weighted avg       1.00      1.00      1.00      6600\n",
      "\n"
     ]
    }
   ],
   "source": [
    "from sklearn.linear_model import PassiveAggressiveClassifier,LogisticRegression\n",
    "\n",
    "from sklearn.feature_extraction.text import TfidfVectorizer\n",
    "tfidf_vectorizer = TfidfVectorizer(stop_words='english', max_df=0.8)\n",
    "X = tfidf_vectorizer.fit_transform(train_df['text'])\n",
    "X_t = tfidf_vectorizer.transform(test_df['text'])\n",
    "Y = train_df.lang_id\n",
    "X_train, X_test, Y_train, Y_test = train_test_split(X, Y, test_size = 0.20)\n",
    "\n",
    "pass_tf = PassiveAggressiveClassifier()\n",
    "pass_tf.fit(X_train, Y_train)\n",
    "pred = pass_tf.predict(X_test)\n",
    "\n",
    "#metrics report\n",
    "ac = accuracy_score(Y_test, pred)\n",
    "report = classification_report(Y_test,pred)\n",
    "\n",
    "print(\"Accuracy is :\",ac)\n",
    "#print(\"Matrix is :\",cm)\n",
    "print(\"Report is :\",report)"
   ]
  },
  {
   "cell_type": "markdown",
   "metadata": {},
   "source": [
    "# Model Evaluation\n",
    "we can evaluate our models"
   ]
  },
  {
   "cell_type": "markdown",
   "metadata": {},
   "source": [
    "### We combine all the classification models above\n",
    "We will define the model names and call the model implementation classes. Take note of the hyperparameters used"
   ]
  },
  {
   "cell_type": "code",
   "execution_count": 62,
   "metadata": {},
   "outputs": [],
   "source": [
    "names = ['MultinomialNB', 'Random Forest',\n",
    "         'LogisticRegression', 'BernoulliNB','SVC','PassiveAggressiveClassifier'\n",
    "         ]"
   ]
  },
  {
   "cell_type": "code",
   "execution_count": 63,
   "metadata": {},
   "outputs": [],
   "source": [
    "classifiers = [\n",
    "    MultinomialNB(),\n",
    "    RandomForestClassifier(n_estimators=100),\n",
    "    LogisticRegression(C = 2, max_iter = 1000, n_jobs=-1),\n",
    "    BernoulliNB(),\n",
    "    SVC(kernel='rbf'),\n",
    "    PassiveAggressiveClassifier()\n",
    "    \n",
    "    \n",
    "]"
   ]
  },
  {
   "cell_type": "code",
   "execution_count": 68,
   "metadata": {},
   "outputs": [
    {
     "name": "stdout",
     "output_type": "stream",
     "text": [
      "Fitting MultinomialNB model...\n",
      "... predicting\n",
      "... scoring\n",
      "Fitting Random Forest model...\n",
      "... predicting\n",
      "... scoring\n",
      "Fitting LogisticRegression model...\n",
      "... predicting\n",
      "... scoring\n",
      "Fitting BernoulliNB model...\n",
      "... predicting\n",
      "... scoring\n",
      "Fitting SVC model...\n",
      "... predicting\n",
      "... scoring\n",
      "Fitting PassiveAggressiveClassifier model...\n",
      "... predicting\n",
      "... scoring\n",
      "... All done!\n"
     ]
    }
   ],
   "source": [
    "from sklearn import metrics\n",
    "results = []\n",
    "\n",
    "models = {}\n",
    "confusion = {}\n",
    "class_report = {}\n",
    "\n",
    "\n",
    "for name, clf in zip(names, classifiers):\n",
    "    print ('Fitting {:s} model...'.format(name))\n",
    "    run_time = %timeit -q -o clf.fit(x_train, y_train)\n",
    "\n",
    "    print ('... predicting')\n",
    "    y_pred = clf.predict(x_train)\n",
    "    y_pred_test = clf.predict(x_test)\n",
    "\n",
    "    print ('... scoring')\n",
    "    accuracy  = metrics.accuracy_score(y_train, y_pred)\n",
    "    precision = metrics.precision_score(y_train, y_pred, average='weighted')\n",
    "    recall    = metrics.recall_score(y_train, y_pred, average='weighted')\n",
    "\n",
    "    f1        = metrics.f1_score(y_train, y_pred, average='weighted')\n",
    "    f1_test   = metrics.f1_score(y_test, y_pred_test, average='weighted')\n",
    "\n",
    "    # Save the results to dictionaries\n",
    "    models[name] = clf\n",
    "    confusion[name] = metrics.confusion_matrix(y_train, y_pred)\n",
    "    class_report[name] = metrics.classification_report(y_train, y_pred)\n",
    "\n",
    "    results.append([name, accuracy, precision, recall, f1, f1_test, run_time.best])\n",
    "\n",
    "\n",
    "results = pd.DataFrame(results, columns=['Classifier', 'Accuracy', 'Precision', 'Recall', 'F1 Train', 'F1 Test', 'Train Time'])\n",
    "results.set_index('Classifier', inplace= True)\n",
    "\n",
    "print ('... All done!')"
   ]
  },
  {
   "cell_type": "markdown",
   "metadata": {},
   "source": [
    "Have a look at the results"
   ]
  },
  {
   "cell_type": "code",
   "execution_count": 69,
   "metadata": {},
   "outputs": [
    {
     "data": {
      "text/html": [
       "<div>\n",
       "<style scoped>\n",
       "    .dataframe tbody tr th:only-of-type {\n",
       "        vertical-align: middle;\n",
       "    }\n",
       "\n",
       "    .dataframe tbody tr th {\n",
       "        vertical-align: top;\n",
       "    }\n",
       "\n",
       "    .dataframe thead th {\n",
       "        text-align: right;\n",
       "    }\n",
       "</style>\n",
       "<table border=\"1\" class=\"dataframe\">\n",
       "  <thead>\n",
       "    <tr style=\"text-align: right;\">\n",
       "      <th></th>\n",
       "      <th>Accuracy</th>\n",
       "      <th>Precision</th>\n",
       "      <th>Recall</th>\n",
       "      <th>F1 Train</th>\n",
       "      <th>F1 Test</th>\n",
       "      <th>Train Time</th>\n",
       "    </tr>\n",
       "    <tr>\n",
       "      <th>Classifier</th>\n",
       "      <th></th>\n",
       "      <th></th>\n",
       "      <th></th>\n",
       "      <th></th>\n",
       "      <th></th>\n",
       "      <th></th>\n",
       "    </tr>\n",
       "  </thead>\n",
       "  <tbody>\n",
       "    <tr>\n",
       "      <th>Random Forest</th>\n",
       "      <td>1.000000</td>\n",
       "      <td>1.000000</td>\n",
       "      <td>1.000000</td>\n",
       "      <td>1.000000</td>\n",
       "      <td>0.988049</td>\n",
       "      <td>633.331391</td>\n",
       "    </tr>\n",
       "    <tr>\n",
       "      <th>LogisticRegression</th>\n",
       "      <td>1.000000</td>\n",
       "      <td>1.000000</td>\n",
       "      <td>1.000000</td>\n",
       "      <td>1.000000</td>\n",
       "      <td>0.995300</td>\n",
       "      <td>225.744842</td>\n",
       "    </tr>\n",
       "    <tr>\n",
       "      <th>PassiveAggressiveClassifier</th>\n",
       "      <td>1.000000</td>\n",
       "      <td>1.000000</td>\n",
       "      <td>1.000000</td>\n",
       "      <td>1.000000</td>\n",
       "      <td>0.997123</td>\n",
       "      <td>4.771623</td>\n",
       "    </tr>\n",
       "    <tr>\n",
       "      <th>BernoulliNB</th>\n",
       "      <td>0.999886</td>\n",
       "      <td>0.999887</td>\n",
       "      <td>0.999886</td>\n",
       "      <td>0.999886</td>\n",
       "      <td>0.999394</td>\n",
       "      <td>0.726242</td>\n",
       "    </tr>\n",
       "    <tr>\n",
       "      <th>MultinomialNB</th>\n",
       "      <td>0.999848</td>\n",
       "      <td>0.999849</td>\n",
       "      <td>0.999848</td>\n",
       "      <td>0.999849</td>\n",
       "      <td>0.999091</td>\n",
       "      <td>0.709903</td>\n",
       "    </tr>\n",
       "    <tr>\n",
       "      <th>SVC</th>\n",
       "      <td>0.999697</td>\n",
       "      <td>0.999697</td>\n",
       "      <td>0.999697</td>\n",
       "      <td>0.999697</td>\n",
       "      <td>0.994096</td>\n",
       "      <td>175.144361</td>\n",
       "    </tr>\n",
       "  </tbody>\n",
       "</table>\n",
       "</div>"
      ],
      "text/plain": [
       "                             Accuracy  Precision    Recall  F1 Train  \\\n",
       "Classifier                                                             \n",
       "Random Forest                1.000000   1.000000  1.000000  1.000000   \n",
       "LogisticRegression           1.000000   1.000000  1.000000  1.000000   \n",
       "PassiveAggressiveClassifier  1.000000   1.000000  1.000000  1.000000   \n",
       "BernoulliNB                  0.999886   0.999887  0.999886  0.999886   \n",
       "MultinomialNB                0.999848   0.999849  0.999848  0.999849   \n",
       "SVC                          0.999697   0.999697  0.999697  0.999697   \n",
       "\n",
       "                              F1 Test  Train Time  \n",
       "Classifier                                         \n",
       "Random Forest                0.988049  633.331391  \n",
       "LogisticRegression           0.995300  225.744842  \n",
       "PassiveAggressiveClassifier  0.997123    4.771623  \n",
       "BernoulliNB                  0.999394    0.726242  \n",
       "MultinomialNB                0.999091    0.709903  \n",
       "SVC                          0.994096  175.144361  "
      ]
     },
     "execution_count": 69,
     "metadata": {},
     "output_type": "execute_result"
    }
   ],
   "source": [
    "results.sort_values('F1 Train', ascending=False)"
   ]
  },
  {
   "cell_type": "markdown",
   "metadata": {},
   "source": [
    "We can plot the above for easier comprehension"
   ]
  },
  {
   "cell_type": "code",
   "execution_count": 75,
   "metadata": {
    "scrolled": true
   },
   "outputs": [
    {
     "data": {
      "text/plain": [
       "<AxesSubplot:xlabel='Classifier'>"
      ]
     },
     "execution_count": 75,
     "metadata": {},
     "output_type": "execute_result"
    },
    {
     "data": {
      "image/png": "[encoded data removed]",
      "text/plain": [
       "<Figure size 720x360 with 2 Axes>"
      ]
     },
     "metadata": {
      "needs_background": "light"
     },
     "output_type": "display_data"
    }
   ],
   "source": [
    "fig, ax = plt.subplots(1, 2, figsize=(10, 5))\n",
    "results.sort_values('F1 Train', ascending=False, inplace=True)\n",
    "results.plot(y=['F1 Test'], kind='bar', ax=ax[0], xlim=[0,1.1], ylim=[0.70,1.00])\n",
    "results.plot(y='Train Time', kind='bar', ax=ax[1])"
   ]
  },
  {
   "cell_type": "markdown",
   "metadata": {},
   "source": [
    "The random forest model took a long timein fitting the data and performed the least.. BernoulliNB took a very shorter period and performed the best.\n",
    "To better understand the performance of one of the models, lets view the confusion matricx and classification report BernoulliNB results"
   ]
  },
  {
   "cell_type": "code",
   "execution_count": 77,
   "metadata": {},
   "outputs": [
    {
     "data": {
      "text/plain": [
       "array([[2413,    0,    0,    0,    0,    0,    0,    0,    0,    0,    0],\n",
       "       [   0, 2426,    0,    0,    0,    0,    0,    0,    0,    0,    0],\n",
       "       [   0,    0, 2387,    0,    0,    0,    0,    0,    0,    0,    0],\n",
       "       [   0,    0,    0, 2430,    0,    0,    0,    0,    0,    0,    0],\n",
       "       [   0,    0,    0,    0, 2400,    0,    0,    0,    0,    0,    0],\n",
       "       [   0,    0,    0,    0,    0, 2376,    0,    0,    0,    0,    0],\n",
       "       [   0,    0,    0,    0,    0,    0, 2419,    0,    0,    0,    0],\n",
       "       [   0,    0,    0,    0,    0,    0,    0, 2403,    0,    0,    0],\n",
       "       [   0,    0,    0,    0,    0,    0,    0,    0, 2401,    0,    0],\n",
       "       [   0,    2,    0,    0,    0,    0,    0,    0,    0, 2377,    0],\n",
       "       [   0,    1,    0,    0,    0,    0,    0,    0,    0,    0, 2365]],\n",
       "      dtype=int64)"
      ]
     },
     "execution_count": 77,
     "metadata": {},
     "output_type": "execute_result"
    }
   ],
   "source": [
    "confusion['BernoulliNB']"
   ]
  },
  {
   "cell_type": "code",
   "execution_count": 78,
   "metadata": {
    "scrolled": true
   },
   "outputs": [
    {
     "name": "stdout",
     "output_type": "stream",
     "text": [
      "              precision    recall  f1-score   support\n",
      "\n",
      "         afr       1.00      1.00      1.00      2413\n",
      "         eng       1.00      1.00      1.00      2426\n",
      "         nbl       1.00      1.00      1.00      2387\n",
      "         nso       1.00      1.00      1.00      2430\n",
      "         sot       1.00      1.00      1.00      2400\n",
      "         ssw       1.00      1.00      1.00      2376\n",
      "         tsn       1.00      1.00      1.00      2419\n",
      "         tso       1.00      1.00      1.00      2403\n",
      "         ven       1.00      1.00      1.00      2401\n",
      "         xho       1.00      1.00      1.00      2379\n",
      "         zul       1.00      1.00      1.00      2366\n",
      "\n",
      "    accuracy                           1.00     26400\n",
      "   macro avg       1.00      1.00      1.00     26400\n",
      "weighted avg       1.00      1.00      1.00     26400\n",
      "\n"
     ]
    }
   ],
   "source": [
    "print(class_report['BernoulliNB'])"
   ]
  },
  {
   "cell_type": "markdown",
   "metadata": {},
   "source": [
    "##### From the  above metrics analysis of  the performance of the models, BernoulliNB model  outperforms the rest?"
   ]
  },
  {
   "cell_type": "markdown",
   "metadata": {},
   "source": [
    "The accuracy of the model is 0.9998 which is very good and our model is performing well. Now let’s plot the confusion matrix using the seaborn heatmap."
   ]
  },
  {
   "cell_type": "code",
   "execution_count": 85,
   "metadata": {
    "scrolled": true
   },
   "outputs": [
    {
     "data": {
      "image/png": "[encoded data removed]",
      "text/plain": [
       "<Figure size 1080x720 with 2 Axes>"
      ]
     },
     "metadata": {
      "needs_background": "light"
     },
     "output_type": "display_data"
    }
   ],
   "source": [
    "\n",
    "plt.figure(figsize=(15,10))\n",
    "sns.heatmap(confusion['BernoulliNB'], annot = True)\n",
    "plt.show()"
   ]
  },
  {
   "cell_type": "markdown",
   "metadata": {},
   "source": [
    "When looking into each language, almost all the predictions are right."
   ]
  },
  {
   "cell_type": "markdown",
   "metadata": {},
   "source": [
    "# Predicting with some more data\n",
    "Now let’s test the model prediction using text in different languages."
   ]
  },
  {
   "cell_type": "code",
   "execution_count": 86,
   "metadata": {},
   "outputs": [
    {
     "data": {
      "text/plain": [
       "(5682, 141680)"
      ]
     },
     "execution_count": 86,
     "metadata": {},
     "output_type": "execute_result"
    }
   ],
   "source": [
    "X_t.shape"
   ]
  },
  {
   "cell_type": "code",
   "execution_count": 87,
   "metadata": {},
   "outputs": [],
   "source": [
    "text_pred= BNBmodel.predict(X_t)"
   ]
  },
  {
   "cell_type": "code",
   "execution_count": null,
   "metadata": {},
   "outputs": [],
   "source": [
    "#The following codes are used to save the expected predictions for kaggle submission\n",
    "#kaggle_bnb = test_df[['index']]\n",
    "#kaggle_bnb['lang_id']= text_pred\n",
    "#kaggle_bnb.to_csv('bnb.csv', index = None)"
   ]
  },
  {
   "cell_type": "code",
   "execution_count": null,
   "metadata": {
    "scrolled": true
   },
   "outputs": [],
   "source": [
    "#read_file('bnb.csv')"
   ]
  },
  {
   "cell_type": "markdown",
   "metadata": {},
   "source": [
    "Best models are built through iteration. We implement a quick way that should give us a good idea of how to proceed in finding a better model to this particular language classification. The quicker we can generate a couple of results, the quicker we can come up with new ideas of how to proceed."
   ]
  },
  {
   "cell_type": "code",
   "execution_count": null,
   "metadata": {},
   "outputs": [],
   "source": []
  },
  {
   "cell_type": "markdown",
   "metadata": {},
   "source": [
    "# Conclusion\n",
    "This is a basic Natural Language Processing(NLP) technique. We did analyze the data and preprocess it accordingly. A bag of words model was one way of representing our text data. Text extraction and vectorization are important steps for good predictions in NLP.BernoulliNB has proven to be a better model in language, hence more accurate results were produced."
   ]
  },
  {
   "cell_type": "code",
   "execution_count": null,
   "metadata": {},
   "outputs": [],
   "source": []
  }
 ],
 "metadata": {
  "kernelspec": {
   "display_name": "Python 3 (ipykernel)",
   "language": "python",
   "name": "python3"
  },
  "language_info": {
   "codemirror_mode": {
    "name": "ipython",
    "version": 3
   },
   "file_extension": ".py",
   "mimetype": "text/x-python",
   "name": "python",
   "nbconvert_exporter": "python",
   "pygments_lexer": "ipython3",
   "version": "3.9.7"
  }
 },
 "nbformat": 4,
 "nbformat_minor": 4
}
